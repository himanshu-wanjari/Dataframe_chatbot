{
 "cells": [
  {
   "cell_type": "code",
   "execution_count": 4,
   "id": "df8bb1e6",
   "metadata": {},
   "outputs": [
    {
     "name": "stdout",
     "output_type": "stream",
     "text": [
      "/usr/bin/python3\n"
     ]
    }
   ],
   "source": [
    "import sys\n",
    "print(sys.executable)\n"
   ]
  },
  {
   "cell_type": "code",
   "execution_count": 3,
   "id": "1cea3404-b64e-4f96-8490-88f702ee3423",
   "metadata": {},
   "outputs": [],
   "source": [
    "#!pip install langchain==0.2.8 langchain-experimental==0.0.62 langchain-openai==0.1.16"
   ]
  },
  {
   "cell_type": "code",
   "execution_count": 4,
   "id": "aebb0268",
   "metadata": {},
   "outputs": [
    {
     "name": "stderr",
     "output_type": "stream",
     "text": [
      "2025-02-15 20:36:44.900074: I tensorflow/core/util/port.cc:153] oneDNN custom operations are on. You may see slightly different numerical results due to floating-point round-off errors from different computation orders. To turn them off, set the environment variable `TF_ENABLE_ONEDNN_OPTS=0`.\n",
      "2025-02-15 20:36:44.900510: I external/local_xla/xla/tsl/cuda/cudart_stub.cc:32] Could not find cuda drivers on your machine, GPU will not be used.\n",
      "2025-02-15 20:36:44.902456: I external/local_xla/xla/tsl/cuda/cudart_stub.cc:32] Could not find cuda drivers on your machine, GPU will not be used.\n",
      "2025-02-15 20:36:44.908121: E external/local_xla/xla/stream_executor/cuda/cuda_fft.cc:477] Unable to register cuFFT factory: Attempting to register factory for plugin cuFFT when one has already been registered\n",
      "WARNING: All log messages before absl::InitializeLog() is called are written to STDERR\n",
      "E0000 00:00:1739632004.917637  727887 cuda_dnn.cc:8310] Unable to register cuDNN factory: Attempting to register factory for plugin cuDNN when one has already been registered\n",
      "E0000 00:00:1739632004.920427  727887 cuda_blas.cc:1418] Unable to register cuBLAS factory: Attempting to register factory for plugin cuBLAS when one has already been registered\n",
      "2025-02-15 20:36:44.930303: I tensorflow/core/platform/cpu_feature_guard.cc:210] This TensorFlow binary is optimized to use available CPU instructions in performance-critical operations.\n",
      "To enable the following instructions: AVX2 AVX_VNNI FMA, in other operations, rebuild TensorFlow with the appropriate compiler flags.\n"
     ]
    }
   ],
   "source": [
    "import tensorflow"
   ]
  },
  {
   "cell_type": "code",
   "execution_count": 2,
   "id": "e30f4ded-b1e9-4eea-9070-a62498abe98b",
   "metadata": {},
   "outputs": [],
   "source": [
    "import os\n",
    "\n",
    "from langchain.agents import AgentType\n",
    "from langchain_experimental.agents import create_pandas_dataframe_agent\n",
    "from langchain_openai import ChatOpenAI\n",
    "import pandas as pd"
   ]
  },
  {
   "cell_type": "code",
   "execution_count": 3,
   "id": "6eef377f-a793-4c03-86f4-9745b1cb580f",
   "metadata": {},
   "outputs": [],
   "source": [
    "def read_data(filepath):\n",
    "    filename, extension = os.path.splitext(filepath)\n",
    "    if extension == \".csv\":\n",
    "        df = pd.read_csv(filepath)\n",
    "    elif extension == \".xlsx\" or extension == \".xls\":\n",
    "        df = pd.read_excel(filepath)\n",
    "    return df"
   ]
  },
  {
   "cell_type": "code",
   "execution_count": null,
   "id": "ea0912b1-f0c3-4d18-888a-11c460ac3dd9",
   "metadata": {},
   "outputs": [],
   "source": [
    "df = read_data(\"diabetes.csv\")"
   ]
  },
  {
   "cell_type": "code",
   "execution_count": null,
   "id": "47afab56-9c57-4d9b-a681-f8afa3826714",
   "metadata": {},
   "outputs": [],
   "source": [
    "df.head()"
   ]
  },
  {
   "cell_type": "code",
   "execution_count": null,
   "id": "ca7fa78d-9922-4c06-b1f7-f3c952ae8dbb",
   "metadata": {},
   "outputs": [],
   "source": [
    "df.shape"
   ]
  },
  {
   "cell_type": "code",
   "execution_count": null,
   "id": "0ce8dae4-c682-43b1-8f8c-34159ff05fc7",
   "metadata": {},
   "outputs": [],
   "source": [
    "os.environ[\"OPENAI_API_KEY\"] = \"your_openai_api_key\""
   ]
  },
  {
   "cell_type": "code",
   "execution_count": null,
   "id": "4a232b29-2e13-4c30-aebe-baab84fe79dc",
   "metadata": {},
   "outputs": [],
   "source": [
    "llm = ChatOpenAI(\n",
    "    model=\"gpt-3.5-turbo\",\n",
    "    temperature=0\n",
    ")"
   ]
  },
  {
   "cell_type": "code",
   "execution_count": null,
   "id": "6db3310a-7bea-4ff1-b6c1-920643469658",
   "metadata": {},
   "outputs": [],
   "source": [
    "pandas_df_agent = create_pandas_dataframe_agent(\n",
    "    llm,\n",
    "    df,\n",
    "    verbose=True,\n",
    "    agent_type=AgentType.OPENAI_FUNCTIONS,\n",
    "    allow_dangerous_code=True\n",
    ")"
   ]
  },
  {
   "cell_type": "code",
   "execution_count": null,
   "id": "d43f550f-bb18-4e6f-b2da-1eec32e9b562",
   "metadata": {},
   "outputs": [],
   "source": [
    "response = pandas_df_agent.run(\"What are the columns in the dtaaframe?\")"
   ]
  },
  {
   "cell_type": "code",
   "execution_count": null,
   "id": "744757fa-af23-4fb0-9743-c45a3d3ade20",
   "metadata": {},
   "outputs": [],
   "source": [
    "print(response)"
   ]
  },
  {
   "cell_type": "code",
   "execution_count": null,
   "id": "f55c43d9-8525-4319-8d35-b181428a7690",
   "metadata": {},
   "outputs": [],
   "source": [
    "response = pandas_df_agent.invoke(\"Explain the distribution of the columns in the dataframe\")"
   ]
  },
  {
   "cell_type": "code",
   "execution_count": null,
   "id": "62bee32d-5120-4182-a63c-f1cc174e6cda",
   "metadata": {},
   "outputs": [],
   "source": [
    "print(response[\"output\"])"
   ]
  },
  {
   "cell_type": "code",
   "execution_count": null,
   "id": "29f012fd-6f0c-494f-aafd-126016fda179",
   "metadata": {},
   "outputs": [],
   "source": []
  }
 ],
 "metadata": {
  "kernelspec": {
   "display_name": "Python (Conda Base)",
   "language": "python",
   "name": "base"
  },
  "language_info": {
   "codemirror_mode": {
    "name": "ipython",
    "version": 3
   },
   "file_extension": ".py",
   "mimetype": "text/x-python",
   "name": "python",
   "nbconvert_exporter": "python",
   "pygments_lexer": "ipython3",
   "version": "3.12.9"
  }
 },
 "nbformat": 4,
 "nbformat_minor": 5
}
